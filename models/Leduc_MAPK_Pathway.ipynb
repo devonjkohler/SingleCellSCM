{
 "cells": [
  {
   "cell_type": "markdown",
   "id": "006e5989-b584-48c5-af1a-47604bd9c6b4",
   "metadata": {},
   "source": [
    "# Build graph for MAPK Pathway from Indra statements\n",
    "\n",
    "Original Paper: https://www.biorxiv.org/content/10.1101/2021.04.24.441211v3\n",
    "\n",
    "Data: https://scp.slavovlab.net/Leduc_et_al_2022"
   ]
  },
  {
   "cell_type": "code",
   "execution_count": 2,
   "id": "a4b1af4d-2964-4dc1-ae3a-64ba74c82e08",
   "metadata": {},
   "outputs": [],
   "source": [
    "import pickle\n"
   ]
  },
  {
   "cell_type": "markdown",
   "id": "54b71083-a48c-4f76-af35-a0f45e8c3721",
   "metadata": {},
   "source": [
    "### Load Data"
   ]
  },
  {
   "cell_type": "code",
   "execution_count": 3,
   "id": "71d4ea44-47d5-4ec0-8c1f-ace2a9df2724",
   "metadata": {},
   "outputs": [
    {
     "name": "stderr",
     "output_type": "stream",
     "text": [
      "/home/devonjkohler/.local/lib/python3.8/site-packages/pybel/struct/operations.py:8: TqdmExperimentalWarning: Using `tqdm.autonotebook.tqdm` in notebook mode. Use `tqdm.tqdm` instead to force console mode (e.g. in jupyter console)\n",
      "  from tqdm.autonotebook import tqdm\n",
      "WARNING: [2022-08-30 16:06:27] indra.sources.reach.api - Could not import jnius, offline reading option will not be available.\n"
     ]
    }
   ],
   "source": [
    "with open('../data/Leduc_graph_PathwayOnly.pkl', 'rb') as handle:\n",
    "    raw_model = pickle.load(handle)"
   ]
  },
  {
   "cell_type": "code",
   "execution_count": 9,
   "id": "06e140bb-e267-4dcb-b950-688759fb8a73",
   "metadata": {},
   "outputs": [
    {
     "name": "stdout",
     "output_type": "stream",
     "text": [
      "Empty DataFrame\n",
      "Columns: []\n",
      "Index: []\n"
     ]
    }
   ],
   "source": [
    "print(raw_model.pandas_graph)"
   ]
  },
  {
   "cell_type": "code",
   "execution_count": null,
   "id": "052d6f4c-6bc1-42ac-893b-593e0b5e443d",
   "metadata": {},
   "outputs": [],
   "source": [
    "final_graph.loc[:, \"From\"] = np.where(final_graph.loc[:, \"From\"].isna(), final_graph.loc[:, \"From_Gene\"], \n",
    "                                       final_graph.loc[:, \"From\"] + \"_\" + final_graph.loc[:, \"From_Gene\"])\n",
    "final_graph.loc[:, \"To\"] = np.where(final_graph.loc[:, \"To\"].isna(), final_graph.loc[:, \"To_Gene\"], \n",
    "                                       final_graph.loc[:, \"To\"] + \"_\" + final_graph.loc[:, \"To_Gene\"])"
   ]
  }
 ],
 "metadata": {
  "kernelspec": {
   "display_name": "Python 3 (ipykernel)",
   "language": "python",
   "name": "python3"
  },
  "language_info": {
   "codemirror_mode": {
    "name": "ipython",
    "version": 3
   },
   "file_extension": ".py",
   "mimetype": "text/x-python",
   "name": "python",
   "nbconvert_exporter": "python",
   "pygments_lexer": "ipython3",
   "version": "3.8.10"
  }
 },
 "nbformat": 4,
 "nbformat_minor": 5
}
